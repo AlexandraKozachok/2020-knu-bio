{
 "cells": [
  {
   "cell_type": "code",
   "execution_count": null,
   "metadata": {},
   "outputs": [],
   "source": [
    "####################\n",
    "#\n",
    "# Alexandra Kozachok\n",
    "#\n",
    "####################\n",
    "# this file contains implementation of Hamming distance via Inner Product\n",
    "# couple of different realisations are tested :\n",
    "#  - using Python standart types, functions and libraries\n",
    "#  - using NumPy\n",
    "####################"
   ]
  },
  {
   "cell_type": "code",
   "execution_count": 1,
   "metadata": {},
   "outputs": [],
   "source": [
    "###################################################################################################\n",
    "###################################################################################################\n",
    "###################################################################################################"
   ]
  },
  {
   "cell_type": "code",
   "execution_count": 2,
   "metadata": {},
   "outputs": [],
   "source": [
    "import random\n",
    "\n",
    "class Alexa_Hamming:\n",
    "    #using standart Python integer type\n",
    "\n",
    "    @staticmethod\n",
    "    def get_random_vector_of_minusOneAndOnes(xSize = 16):\n",
    "        return [random.randrange(-1, 2, 2) for xIndex in range(xSize)]\n",
    "    \n",
    "    @staticmethod\n",
    "    def set_of_types(*args):\n",
    "        xSet_of_types = set([])\n",
    "        for arg in args:\n",
    "            xSet_of_types.add(type(arg))\n",
    "        return xSet_of_types\n",
    "    \n",
    "    @staticmethod\n",
    "    def is_iterable_object(arg):\n",
    "        try:\n",
    "            iterator = iter(arg)\n",
    "            #print(arg, 'is iterable')\n",
    "            return True\n",
    "        except TypeError as iterator_error:\n",
    "            #print(arg, 'is not iterable')\n",
    "            return False\n",
    "        \n",
    "    @staticmethod\n",
    "    def is_iterable(*args):\n",
    "        for arg in args:\n",
    "            if Alexa_Hamming.is_iterable_object(arg):\n",
    "                pass\n",
    "            else:\n",
    "                return False\n",
    "        return True\n",
    "        \n",
    "    @staticmethod\n",
    "    def is_size_the_same(*args):\n",
    "        xSet_of_sizes = set([])\n",
    "        for arg in args:\n",
    "            xSet_of_sizes.add(len(arg))\n",
    "        if 1 == len(xSet_of_sizes):\n",
    "            return True\n",
    "        else:\n",
    "            return False\n",
    "\n",
    "    @staticmethod\n",
    "    def signed_inner_product(xVec1, xVec2):\n",
    "        xSigned_inner_product = 0\n",
    "        for i in range(len(xVec1)):\n",
    "            xSigned_inner_product += (xVec1[i]*xVec2[i])\n",
    "        return xSigned_inner_product\n",
    "    \n",
    "    @staticmethod\n",
    "    def unsigned_inner_product(xVec1, xVec2):\n",
    "        return abs(Alexa_Hamming.signed_inner_product(xVec1, xVec2))\n",
    "    \n",
    "    @staticmethod\n",
    "    def different_bits_via_signed_inner_product(xVec1, xVec2):\n",
    "        return ((len(xVec1) - Alexa_Hamming.signed_inner_product(xVec1, xVec2)) // 2)\n",
    "    \n",
    "    @staticmethod\n",
    "    def hamming_distance(xVec1, xVec2, xType = list):\n",
    "        assert Alexa_Hamming.is_iterable(xVec1, xVec2), \\\n",
    "        \"at least one of arg is not iterable object (could not be a vector)\"\n",
    "        assert set([xType]) == Alexa_Hamming.set_of_types(xVec1, xVec2), \\\n",
    "        \"objects are of different types or function needs other types of vectors\"\n",
    "        assert Alexa_Hamming.is_size_the_same(xVec1, xVec2), \\\n",
    "        \"the size (length) of args (vectors) are not the same\"\n",
    "        xSize = len(xVec1)\n",
    "        return (Alexa_Hamming.different_bits_via_signed_inner_product(xVec1, xVec2)/xSize)\n",
    "\n",
    "    @staticmethod\n",
    "    def hamming_distance_typeList_fast(xVec1, xVec2, xSize = 16):\n",
    "        return ((xSize - sum([xVec1[i]*xVec2[i] for i in range(xSize)])) / (2*xSize))\n",
    "    \n",
    "    @staticmethod\n",
    "    def hamming_distance_typeList_length16_fast(xVec1, xVec2):\n",
    "        return ((16 - sum([xVec1[i]*xVec2[i] for i in range(16)])) / 32)"
   ]
  },
  {
   "cell_type": "code",
   "execution_count": 3,
   "metadata": {},
   "outputs": [
    {
     "name": "stdout",
     "output_type": "stream",
     "text": [
      "xVec1 = \n",
      "[1, -1, -1, 1, 1, 1, 1, -1, 1, 1, -1, 1, 1, -1, 1, 1]\n"
     ]
    }
   ],
   "source": [
    "xVec1 = Alexa_Hamming.get_random_vector_of_minusOneAndOnes()\n",
    "print(\"xVec1 = \\n{0}\".format(xVec1))"
   ]
  },
  {
   "cell_type": "code",
   "execution_count": 4,
   "metadata": {},
   "outputs": [
    {
     "name": "stdout",
     "output_type": "stream",
     "text": [
      "xVec2 = \n",
      "[-1, -1, -1, -1, -1, 1, -1, 1, -1, 1, 1, 1, -1, -1, 1, -1]\n"
     ]
    }
   ],
   "source": [
    "xVec2 = Alexa_Hamming.get_random_vector_of_minusOneAndOnes(16)\n",
    "print(\"xVec2 = \\n{0}\".format(xVec2))"
   ]
  },
  {
   "cell_type": "code",
   "execution_count": 5,
   "metadata": {},
   "outputs": [
    {
     "name": "stdout",
     "output_type": "stream",
     "text": [
      "Hamming distance between two vectors vec1 and vec2 : \n",
      "\t 0.5625\n"
     ]
    }
   ],
   "source": [
    "xHamming_distance = Alexa_Hamming.hamming_distance_typeList_length16_fast(xVec1, xVec2)\n",
    "print(\"Hamming distance between two vectors vec1 and vec2 : \\n\\t {0}\".format(xHamming_distance))"
   ]
  },
  {
   "cell_type": "code",
   "execution_count": 6,
   "metadata": {},
   "outputs": [
    {
     "data": {
      "text/plain": [
       "0.5625"
      ]
     },
     "execution_count": 6,
     "metadata": {},
     "output_type": "execute_result"
    }
   ],
   "source": [
    "Alexa_Hamming.hamming_distance(xVec1, xVec2)"
   ]
  },
  {
   "cell_type": "code",
   "execution_count": 7,
   "metadata": {},
   "outputs": [
    {
     "data": {
      "text/plain": [
       "0.5625"
      ]
     },
     "execution_count": 7,
     "metadata": {},
     "output_type": "execute_result"
    }
   ],
   "source": [
    "Alexa_Hamming.hamming_distance_typeList_fast(xVec1, xVec2)"
   ]
  },
  {
   "cell_type": "code",
   "execution_count": 8,
   "metadata": {},
   "outputs": [],
   "source": [
    "###################################################################################################\n",
    "###################################################################################################\n",
    "###################################################################################################"
   ]
  },
  {
   "cell_type": "code",
   "execution_count": 9,
   "metadata": {},
   "outputs": [],
   "source": [
    "import numpy as np\n",
    "\n",
    "class Alexa_Hamming_with_NumPy:\n",
    "    \n",
    "    signed_inner_product = np.inner\n",
    "    \n",
    "    def __init__(self, xSize = 16, xDtype=np.int8, xArrayOfPossibleValues = None):\n",
    "        self.xSize = xSize\n",
    "        self.xDtype = xDtype\n",
    "        if xArrayOfPossibleValues is None:\n",
    "            self.xArrayOfPossibleValues = np.array([-1, 1], dtype = np.int8)\n",
    "        else:\n",
    "            self.xArrayOfPossibleValues = xArrayOfPossibleValues\n",
    "        \n",
    "    def get_random_vector(self, xDistribution = None):\n",
    "        # ~~None~~ stands for ~~uniform~~ distribution\n",
    "        if xDistribution is None:\n",
    "            return np.random.choice(self.xArrayOfPossibleValues,  self.xSize)\n",
    "        else:\n",
    "            assert 1.0 == np.sum(xDistribution), \\\n",
    "            \" sum of probabilities is not one : sum(p[k]) != 1 \"\n",
    "            return np.random.choice(self.xArrayOfPossibleValues,  size=self.xSize, p = xDistribution)\n",
    "    \n",
    "    @staticmethod\n",
    "    def get_random_vector_of_minusOneAndOnes_length16_elementByte1_fast():\n",
    "        #uniform distribution\n",
    "        return np.random.choice(np.array([-1, 1], dtype = np.int8),  size=16)\n",
    "    \n",
    "    @staticmethod\n",
    "    def different_bits_via_signed_inner_product(arg_vec1, arg_vec2, xType = None, xSize = None, xDtype = None):\n",
    "        if not xType is None:\n",
    "            assert ((xType == type(arg_vec1)) and (xType == type(arg_vec2))), \\\n",
    "            (\"arguments need to be of \" + str(xType) + \" !\")\n",
    "        if not xSize is None:\n",
    "            assert ((xSize == np.size(arg_vec1, axis = 0)) and (xSize == np.size(arg_vec2, axis = 0))), \\\n",
    "            (\"arguments need to be of \" + str(xType) + \" !\")\n",
    "        if not xSize is None:\n",
    "            assert ((xDtype == arg_vec1.dtype) and (xDtype == arg_vec2.dtype)), \\\n",
    "            (\"arguments need to be of \" + str(xType) + \" !\")\n",
    "        return \\\n",
    "        np.floor_divide((np.size(arg_vec1, axis = 0) - Alexa_Hamming_with_NumPy.signed_inner_product(arg_vec1, arg_vec2)), 2)\n",
    "    \n",
    "    @staticmethod\n",
    "    def hamming_distance(arg_vec1, arg_vec2, xType = None, xSize = None, xDtype = None):\n",
    "        return \\\n",
    "        np.divide(Alexa_Hamming_with_NumPy.different_bits_via_signed_inner_product(arg_vec1, arg_vec2, xType, xSize, xDtype), \\\n",
    "                  np.size(arg_vec1, axis = 0), \\\n",
    "                  dtype = np.float)\n",
    "        #Alexa_Hamming_with_NumPy.different_bits_via_signed_inner_product(arg_vec1, arg_vec2, xType, xSize, xDtype) \\\n",
    "        #/np.size(arg_vec1, axis = 0)\n",
    "        \n",
    "    @staticmethod\n",
    "    def hamming_distance_fast(arg_vec1, arg_vec2):\n",
    "        return \\\n",
    "        np.divide(np.floor_divide((np.size(arg_vec1, axis = 0) - np.inner(arg_vec1, arg_vec2)), 2), \\\n",
    "                  np.size(arg_vec1, axis = 0), \\\n",
    "                  dtype = np.float)\n",
    "    \n",
    "    @staticmethod\n",
    "    def hamming_distance_length16_fast(arg_vec1, arg_vec2):\n",
    "        return \\\n",
    "        np.divide((16 - np.inner(arg_vec1, arg_vec2)), 32, dtype = np.float)"
   ]
  },
  {
   "cell_type": "code",
   "execution_count": 10,
   "metadata": {},
   "outputs": [
    {
     "name": "stdout",
     "output_type": "stream",
     "text": [
      "Hamming distance between two vectors\n",
      "vec1 = \n",
      "[1, -1, -1, 1, 1, 1, 1, -1, 1, 1, -1, 1, 1, -1, 1, 1] and \n",
      "vec2 = \n",
      "[-1, -1, -1, -1, -1, 1, -1, 1, -1, 1, 1, 1, -1, -1, 1, -1] : \n",
      "\n",
      "\t 0.5625\n"
     ]
    }
   ],
   "source": [
    "#using xVec1, xVec2 which have been generated above\n",
    "xHamming_distance_NumPy = Alexa_Hamming_with_NumPy.hamming_distance(xVec1, xVec2)\n",
    "print(\"\"\"Hamming distance between two vectors\n",
    "vec1 = \\n{0} and \n",
    "vec2 = \\n{1} : \n",
    "\\n\\t {2}\"\"\".format(xVec1, xVec2, xHamming_distance_NumPy))"
   ]
  },
  {
   "cell_type": "code",
   "execution_count": 11,
   "metadata": {},
   "outputs": [
    {
     "data": {
      "text/plain": [
       "True"
      ]
     },
     "execution_count": 11,
     "metadata": {},
     "output_type": "execute_result"
    }
   ],
   "source": [
    "xHamming_distance == xHamming_distance_NumPy"
   ]
  },
  {
   "cell_type": "code",
   "execution_count": 12,
   "metadata": {},
   "outputs": [
    {
     "name": "stdout",
     "output_type": "stream",
     "text": [
      "xVec1_NumPy = \n",
      "[-1  1  1  1 -1  1  1 -1  1  1 -1 -1 -1  1 -1  1]\n"
     ]
    }
   ],
   "source": [
    "xVec1_NumPy = Alexa_Hamming_with_NumPy.get_random_vector_of_minusOneAndOnes_length16_elementByte1_fast()\n",
    "print(\"xVec1_NumPy = \\n{0}\".format(xVec1_NumPy))"
   ]
  },
  {
   "cell_type": "code",
   "execution_count": 13,
   "metadata": {},
   "outputs": [
    {
     "name": "stdout",
     "output_type": "stream",
     "text": [
      "xVec2_NumPy = \n",
      "[-1  1  1 -1  1  1  1  1  1 -1 -1 -1 -1  1  1  1]\n"
     ]
    }
   ],
   "source": [
    "xVec2_NumPy = Alexa_Hamming_with_NumPy.get_random_vector_of_minusOneAndOnes_length16_elementByte1_fast()\n",
    "print(\"xVec2_NumPy = \\n{0}\".format(xVec2_NumPy))"
   ]
  },
  {
   "cell_type": "code",
   "execution_count": 14,
   "metadata": {},
   "outputs": [
    {
     "name": "stdout",
     "output_type": "stream",
     "text": [
      "Hamming distance between two vectors vec1 and vec2 : \n",
      "\t 0.3125\n"
     ]
    }
   ],
   "source": [
    "del xHamming_distance_NumPy\n",
    "xHamming_distance_NumPy = Alexa_Hamming_with_NumPy.hamming_distance(xVec1_NumPy, xVec2_NumPy)\n",
    "print(\"Hamming distance between two vectors vec1 and vec2 : \\n\\t {0}\".format(xHamming_distance_NumPy))"
   ]
  },
  {
   "cell_type": "code",
   "execution_count": 15,
   "metadata": {},
   "outputs": [
    {
     "ename": "AssertionError",
     "evalue": "objects are of different types or function needs other types of vectors",
     "output_type": "error",
     "traceback": [
      "\u001b[1;31m---------------------------------------------------------------------------\u001b[0m",
      "\u001b[1;31mAssertionError\u001b[0m                            Traceback (most recent call last)",
      "\u001b[1;32m<ipython-input-15-9b1ee391b340>\u001b[0m in \u001b[0;36m<module>\u001b[1;34m\u001b[0m\n\u001b[1;32m----> 1\u001b[1;33m \u001b[0mAlexa_Hamming\u001b[0m\u001b[1;33m.\u001b[0m\u001b[0mhamming_distance\u001b[0m\u001b[1;33m(\u001b[0m\u001b[0mxVec1_NumPy\u001b[0m\u001b[1;33m,\u001b[0m \u001b[0mxVec2_NumPy\u001b[0m\u001b[1;33m)\u001b[0m\u001b[1;33m\u001b[0m\u001b[1;33m\u001b[0m\u001b[0m\n\u001b[0m",
      "\u001b[1;32m<ipython-input-2-ed4bcd5f9d28>\u001b[0m in \u001b[0;36mhamming_distance\u001b[1;34m(xVec1, xVec2, xType)\u001b[0m\n\u001b[0;32m     64\u001b[0m         \u001b[1;34m\"at least one of arg is not iterable object (could not be a vector)\"\u001b[0m\u001b[1;33m\u001b[0m\u001b[1;33m\u001b[0m\u001b[0m\n\u001b[0;32m     65\u001b[0m         \u001b[1;32massert\u001b[0m \u001b[0mset\u001b[0m\u001b[1;33m(\u001b[0m\u001b[1;33m[\u001b[0m\u001b[0mxType\u001b[0m\u001b[1;33m]\u001b[0m\u001b[1;33m)\u001b[0m \u001b[1;33m==\u001b[0m \u001b[0mAlexa_Hamming\u001b[0m\u001b[1;33m.\u001b[0m\u001b[0mset_of_types\u001b[0m\u001b[1;33m(\u001b[0m\u001b[0mxVec1\u001b[0m\u001b[1;33m,\u001b[0m \u001b[0mxVec2\u001b[0m\u001b[1;33m)\u001b[0m\u001b[1;33m,\u001b[0m\u001b[0;31m \u001b[0m\u001b[0;31m\\\u001b[0m\u001b[1;33m\u001b[0m\u001b[1;33m\u001b[0m\u001b[0m\n\u001b[1;32m---> 66\u001b[1;33m         \u001b[1;34m\"objects are of different types or function needs other types of vectors\"\u001b[0m\u001b[1;33m\u001b[0m\u001b[1;33m\u001b[0m\u001b[0m\n\u001b[0m\u001b[0;32m     67\u001b[0m         \u001b[1;32massert\u001b[0m \u001b[0mAlexa_Hamming\u001b[0m\u001b[1;33m.\u001b[0m\u001b[0mis_size_the_same\u001b[0m\u001b[1;33m(\u001b[0m\u001b[0mxVec1\u001b[0m\u001b[1;33m,\u001b[0m \u001b[0mxVec2\u001b[0m\u001b[1;33m)\u001b[0m\u001b[1;33m,\u001b[0m\u001b[0;31m \u001b[0m\u001b[0;31m\\\u001b[0m\u001b[1;33m\u001b[0m\u001b[1;33m\u001b[0m\u001b[0m\n\u001b[0;32m     68\u001b[0m         \u001b[1;34m\"the size (length) of args (vectors) are not the same\"\u001b[0m\u001b[1;33m\u001b[0m\u001b[1;33m\u001b[0m\u001b[0m\n",
      "\u001b[1;31mAssertionError\u001b[0m: objects are of different types or function needs other types of vectors"
     ]
    }
   ],
   "source": [
    "Alexa_Hamming.hamming_distance(xVec1_NumPy, xVec2_NumPy)"
   ]
  },
  {
   "cell_type": "code",
   "execution_count": 16,
   "metadata": {},
   "outputs": [
    {
     "data": {
      "text/plain": [
       "0.3125"
      ]
     },
     "execution_count": 16,
     "metadata": {},
     "output_type": "execute_result"
    }
   ],
   "source": [
    "Alexa_Hamming.hamming_distance(xVec1_NumPy, xVec2_NumPy, xType = np.ndarray)"
   ]
  },
  {
   "cell_type": "code",
   "execution_count": 17,
   "metadata": {},
   "outputs": [
    {
     "data": {
      "text/plain": [
       "0.3125"
      ]
     },
     "execution_count": 17,
     "metadata": {},
     "output_type": "execute_result"
    }
   ],
   "source": [
    "Alexa_Hamming.hamming_distance_typeList_fast(xVec1_NumPy, xVec2_NumPy)"
   ]
  },
  {
   "cell_type": "code",
   "execution_count": 18,
   "metadata": {},
   "outputs": [
    {
     "data": {
      "text/plain": [
       "0.3125"
      ]
     },
     "execution_count": 18,
     "metadata": {},
     "output_type": "execute_result"
    }
   ],
   "source": [
    "Alexa_Hamming.hamming_distance_typeList_length16_fast(xVec1_NumPy, xVec2_NumPy)"
   ]
  },
  {
   "cell_type": "code",
   "execution_count": 19,
   "metadata": {},
   "outputs": [],
   "source": [
    "###################################################################################################\n",
    "###################################################################################################\n",
    "###################################################################################################"
   ]
  },
  {
   "cell_type": "code",
   "execution_count": null,
   "metadata": {},
   "outputs": [],
   "source": [
    "\n",
    "# some testing goes here\n"
   ]
  },
  {
   "cell_type": "code",
   "execution_count": 20,
   "metadata": {},
   "outputs": [],
   "source": [
    "import datetime"
   ]
  },
  {
   "cell_type": "code",
   "execution_count": 21,
   "metadata": {},
   "outputs": [],
   "source": [
    "#vectorType_NumPy = np.array\n",
    "testVectorSize = 16\n",
    "testVectorsNumber = 10000"
   ]
  },
  {
   "cell_type": "code",
   "execution_count": 22,
   "metadata": {},
   "outputs": [
    {
     "name": "stdout",
     "output_type": "stream",
     "text": [
      " NumPy creating testVectorsNumber = 10000 of testVectorSize = 16\n",
      "using function \n",
      "~~ Alexa_Hamming.get_random_vector_of_minusOneAndOnes() ~~\n",
      "\n",
      "\t timedelta = 528030 \n"
     ]
    }
   ],
   "source": [
    "testArray_of_random_vectors = list()\n",
    "#\n",
    "time_start = datetime.datetime.now()\n",
    "for i in range(testVectorsNumber):\n",
    "    testArray_of_random_vectors.append(Alexa_Hamming.get_random_vector_of_minusOneAndOnes())\n",
    "time_end = datetime.datetime.now()\n",
    "#\n",
    "timedelta = (time_end - time_start)\n",
    "print(\"\"\" NumPy creating testVectorsNumber = {0} of testVectorSize = {1}\n",
    "using function \n",
    "~~ Alexa_Hamming.get_random_vector_of_minusOneAndOnes() ~~\n",
    "\\n\\t timedelta = {2} \"\"\".format(testVectorsNumber, testVectorSize,\\\n",
    "                           timedelta.microseconds))"
   ]
  },
  {
   "cell_type": "code",
   "execution_count": 23,
   "metadata": {},
   "outputs": [
    {
     "name": "stdout",
     "output_type": "stream",
     "text": [
      " NumPy creating testVectorsNumber = 10000 of testVectorSize = 16\n",
      "using function \n",
      "~~ Alexa_Hamming_with_NumPy.get_random_vector_of_minusOneAndOnes_length16_elementByte1_fast() ~~\n",
      "\n",
      "\t timedelta_NumPy = 312018 \n"
     ]
    }
   ],
   "source": [
    "testArray_of_random_vectors_NumPy = np.ndarray((testVectorsNumber, testVectorSize), dtype = np.int8)\n",
    "#\n",
    "time_start = datetime.datetime.now()\n",
    "for i in range(testVectorsNumber):\n",
    "    testArray_of_random_vectors_NumPy[i] = Alexa_Hamming_with_NumPy.get_random_vector_of_minusOneAndOnes_length16_elementByte1_fast()\n",
    "time_end = datetime.datetime.now()\n",
    "#\n",
    "timedelta_NumPy = (time_end - time_start)\n",
    "print(\"\"\" NumPy creating testVectorsNumber = {0} of testVectorSize = {1}\n",
    "using function \n",
    "~~ Alexa_Hamming_with_NumPy.get_random_vector_of_minusOneAndOnes_length16_elementByte1_fast() ~~\n",
    "\\n\\t timedelta_NumPy = {2} \"\"\".format(testVectorsNumber, testVectorSize,\\\n",
    "                           timedelta_NumPy.microseconds))"
   ]
  },
  {
   "cell_type": "code",
   "execution_count": 24,
   "metadata": {},
   "outputs": [
    {
     "name": "stdout",
     "output_type": "stream",
     "text": [
      "random vector creation speed comparison (standart Python vs NumPy) : \n",
      "\n",
      "|timedelta - timedelta_NumPy|/timedelta       = 0.40909039259133007\n",
      "|timedelta - timedelta_NumPy|/timedelta_NumPy = 0.6923062131030902\n"
     ]
    }
   ],
   "source": [
    "print(\"random vector creation speed comparison (standart Python vs NumPy) : \\n\")\n",
    "print(\"|timedelta - timedelta_NumPy|/timedelta       = %s\" % (abs(timedelta - timedelta_NumPy)/timedelta))\n",
    "print(\"|timedelta - timedelta_NumPy|/timedelta_NumPy = %s\" % (abs(timedelta - timedelta_NumPy)/timedelta_NumPy))"
   ]
  },
  {
   "cell_type": "code",
   "execution_count": 25,
   "metadata": {},
   "outputs": [
    {
     "data": {
      "text/plain": [
       "1.0197989832276824"
      ]
     },
     "execution_count": 25,
     "metadata": {},
     "output_type": "execute_result"
    }
   ],
   "source": [
    "0.38740339293551895+0.6323955902921634"
   ]
  },
  {
   "cell_type": "code",
   "execution_count": 26,
   "metadata": {},
   "outputs": [
    {
     "name": "stdout",
     "output_type": "stream",
     "text": [
      "xVecConst = \n",
      " [-1, -1, -1, -1, -1, -1, -1, -1, -1, -1, -1, -1, -1, -1, -1, -1]\n",
      "\ttype(xVecConst) = <class 'list'>\n",
      "\ttype(xVecConst[0]) = <class 'int'>\n"
     ]
    }
   ],
   "source": [
    "xVecConst = [-1 for i in range(16)]\n",
    "print( \"xVecConst = \\n %s\" % xVecConst)\n",
    "print( \"\\ttype(xVecConst) = %s\" % type(xVecConst))\n",
    "print( \"\\ttype(xVecConst[0]) = %s\" % type(xVecConst[0]))"
   ]
  },
  {
   "cell_type": "code",
   "execution_count": 27,
   "metadata": {},
   "outputs": [
    {
     "name": "stdout",
     "output_type": "stream",
     "text": [
      " NumPy creating testVectorsNumber = 10000 of testVectorSize = 16\n",
      "using function \n",
      "~~ Alexa_Hamming.hamming_distance_typeList_length16_fast ~~\n",
      "\n",
      "\t timedelta = 53003 \n"
     ]
    }
   ],
   "source": [
    "time_start = datetime.datetime.now()\n",
    "for i in range(testVectorsNumber):\n",
    "    xV = testArray_of_random_vectors[i]\n",
    "    Alexa_Hamming.hamming_distance_typeList_length16_fast(xVecConst, xV)\n",
    "time_end = datetime.datetime.now()\n",
    "#\n",
    "timedelta = (time_end - time_start)\n",
    "print(\"\"\" NumPy creating testVectorsNumber = {0} of testVectorSize = {1}\n",
    "using function \n",
    "~~ Alexa_Hamming.hamming_distance_typeList_length16_fast ~~\n",
    "\\n\\t timedelta = {2} \"\"\".format(testVectorsNumber, testVectorSize,\\\n",
    "                           timedelta.microseconds))"
   ]
  },
  {
   "cell_type": "code",
   "execution_count": 28,
   "metadata": {},
   "outputs": [
    {
     "name": "stdout",
     "output_type": "stream",
     "text": [
      "xVecConst_NumPy = \n",
      " [-1 -1 -1 -1 -1 -1 -1 -1 -1 -1 -1 -1 -1 -1 -1 -1]\n",
      "\ttype(xVecConst_NumPy) = <class 'numpy.ndarray'>\n",
      "\txVecConst_NumPy.dtype = int8\n"
     ]
    }
   ],
   "source": [
    "xVecConst_NumPy = np.array([-1 for i in range(16)], dtype = np.int8)\n",
    "print( \"xVecConst_NumPy = \\n %s\" % xVecConst_NumPy)\n",
    "print( \"\\ttype(xVecConst_NumPy) = %s\" % type(xVecConst_NumPy))\n",
    "print( \"\\txVecConst_NumPy.dtype = %s\" % xVecConst_NumPy.dtype)"
   ]
  },
  {
   "cell_type": "code",
   "execution_count": 29,
   "metadata": {},
   "outputs": [
    {
     "name": "stdout",
     "output_type": "stream",
     "text": [
      " NumPy creating testVectorsNumber = 10000 of testVectorSize = 16\n",
      "using function \n",
      "~~ Alexa_Hamming.hamming_distance_typeList_length16_fast ~~\n",
      "\n",
      "\t timedelta_NumPy = 199011 \n"
     ]
    }
   ],
   "source": [
    "time_start = datetime.datetime.now()\n",
    "for i in range(testVectorsNumber):\n",
    "    xV_NumPy = testArray_of_random_vectors_NumPy[i]\n",
    "    Alexa_Hamming_with_NumPy.hamming_distance_length16_fast(xVecConst_NumPy, xV_NumPy)\n",
    "time_end = datetime.datetime.now()\n",
    "#\n",
    "timedelta_NumPy = (time_end - time_start)\n",
    "print(\"\"\" NumPy creating testVectorsNumber = {0} of testVectorSize = {1}\n",
    "using function \n",
    "~~ Alexa_Hamming.hamming_distance_typeList_length16_fast ~~\n",
    "\\n\\t timedelta_NumPy = {2} \"\"\".format(testVectorsNumber, testVectorSize,\\\n",
    "                           timedelta_NumPy.microseconds))"
   ]
  },
  {
   "cell_type": "code",
   "execution_count": 30,
   "metadata": {},
   "outputs": [
    {
     "name": "stdout",
     "output_type": "stream",
     "text": [
      " testArray_of_random_vectors       = 43816 (bytes) \n",
      " testArray_of_random_vectors_NumPy = 160056 (bytes) \n"
     ]
    }
   ],
   "source": [
    "import sys\n",
    "print(\" testArray_of_random_vectors       = %s (bytes) \" % sys.getsizeof(testArray_of_random_vectors))\n",
    "print(\" testArray_of_random_vectors_NumPy = %s (bytes) \" % sys.getsizeof(testArray_of_random_vectors_NumPy))"
   ]
  },
  {
   "cell_type": "code",
   "execution_count": 31,
   "metadata": {},
   "outputs": [
    {
     "data": {
      "text/plain": [
       "True"
      ]
     },
     "execution_count": 31,
     "metadata": {},
     "output_type": "execute_result"
    }
   ],
   "source": [
    "len(testArray_of_random_vectors) == len(testArray_of_random_vectors_NumPy)"
   ]
  },
  {
   "cell_type": "code",
   "execution_count": 32,
   "metadata": {},
   "outputs": [
    {
     "name": "stdout",
     "output_type": "stream",
     "text": [
      " testArray_of_random_vectors[0]       = 100 (bytes) \n",
      " testArray_of_random_vectors_NumPy[0] = 48 (bytes) \n"
     ]
    }
   ],
   "source": [
    "print(\" testArray_of_random_vectors[0]       = %s (bytes) \" % sys.getsizeof(testArray_of_random_vectors[0]))\n",
    "print(\" testArray_of_random_vectors_NumPy[0] = %s (bytes) \" % sys.getsizeof(testArray_of_random_vectors_NumPy[0]))"
   ]
  },
  {
   "cell_type": "code",
   "execution_count": 33,
   "metadata": {},
   "outputs": [
    {
     "name": "stdout",
     "output_type": "stream",
     "text": [
      "[-1, -1, -1, 1, -1, 1, -1, 1, 1, 1, 1, -1, 1, 1, -1, 1]\n",
      "[ 1 -1  1 -1 -1 -1 -1 -1  1  1  1 -1 -1  1  1  1]\n"
     ]
    }
   ],
   "source": [
    "print(testArray_of_random_vectors[0])\n",
    "print(testArray_of_random_vectors_NumPy[0])"
   ]
  },
  {
   "cell_type": "code",
   "execution_count": 34,
   "metadata": {},
   "outputs": [
    {
     "name": "stdout",
     "output_type": "stream",
     "text": [
      "random vector creation speed comparison (standart Python vs NumPy) : \n",
      "\n",
      "|timedelta - timedelta_NumPy|/timedelta       = 2.7547119974341077\n",
      "|timedelta - timedelta_NumPy|/timedelta_NumPy = 0.7336679882016572\n"
     ]
    }
   ],
   "source": [
    "print(\"random vector creation speed comparison (standart Python vs NumPy) : \\n\")\n",
    "print(\"|timedelta - timedelta_NumPy|/timedelta       = %s\" % (abs(timedelta - timedelta_NumPy)/timedelta))\n",
    "print(\"|timedelta - timedelta_NumPy|/timedelta_NumPy = %s\" % (abs(timedelta - timedelta_NumPy)/timedelta_NumPy))"
   ]
  },
  {
   "cell_type": "code",
   "execution_count": 35,
   "metadata": {},
   "outputs": [
    {
     "name": "stdout",
     "output_type": "stream",
     "text": [
      " NumPy creating testVectorsNumber = 10000 of testVectorSize = 16\n",
      "using function \n",
      "~~ Alexa_Hamming_with_NumPy.get_random_vector_of_minusOneAndOnes_length16_elementByte1_fast() ~~\n",
      "\n",
      "\t timedelta_NumPy = 308017 \n"
     ]
    }
   ],
   "source": [
    "newTestArray_of_random_vectors_NumPy = np.ndarray(testVectorsNumber, dtype = np.ndarray)\n",
    "#\n",
    "time_start = datetime.datetime.now()\n",
    "for i in range(testVectorsNumber):\n",
    "    newTestArray_of_random_vectors_NumPy[i] = Alexa_Hamming_with_NumPy.get_random_vector_of_minusOneAndOnes_length16_elementByte1_fast()\n",
    "time_end = datetime.datetime.now()\n",
    "#\n",
    "timedelta_NumPy = (time_end - time_start)\n",
    "print(\"\"\" NumPy creating testVectorsNumber = {0} of testVectorSize = {1}\n",
    "using function \n",
    "~~ Alexa_Hamming_with_NumPy.get_random_vector_of_minusOneAndOnes_length16_elementByte1_fast() ~~\n",
    "\\n\\t timedelta_NumPy = {2} \"\"\".format(testVectorsNumber, testVectorSize,\\\n",
    "                           timedelta_NumPy.microseconds))"
   ]
  },
  {
   "cell_type": "code",
   "execution_count": 36,
   "metadata": {},
   "outputs": [
    {
     "name": "stdout",
     "output_type": "stream",
     "text": [
      " testArray_of_random_vectors          = 43816 (bytes) \n",
      " testArray_of_random_vectors_NumPy    = 160056 (bytes) \n",
      " newTestArray_of_random_vectors_NumPy = 40048 (bytes) \n",
      " testArray_of_random_vectors[0]          = 100 (bytes) \n",
      " testArray_of_random_vectors_NumPy[0]    = 48 (bytes) \n",
      " newTestArray_of_random_vectors_NumPy[0] = 64 (bytes) \n"
     ]
    }
   ],
   "source": [
    "print(\" testArray_of_random_vectors          = %s (bytes) \" % sys.getsizeof(testArray_of_random_vectors))\n",
    "print(\" testArray_of_random_vectors_NumPy    = %s (bytes) \" % sys.getsizeof(testArray_of_random_vectors_NumPy))\n",
    "print(\" newTestArray_of_random_vectors_NumPy = %s (bytes) \" % sys.getsizeof(newTestArray_of_random_vectors_NumPy))\n",
    "\n",
    "print(\" testArray_of_random_vectors[0]          = %s (bytes) \" % sys.getsizeof(testArray_of_random_vectors[0]))\n",
    "print(\" testArray_of_random_vectors_NumPy[0]    = %s (bytes) \" % sys.getsizeof(testArray_of_random_vectors_NumPy[0]))\n",
    "print(\" newTestArray_of_random_vectors_NumPy[0] = %s (bytes) \" % sys.getsizeof(newTestArray_of_random_vectors_NumPy[0]))"
   ]
  },
  {
   "cell_type": "code",
   "execution_count": 37,
   "metadata": {},
   "outputs": [
    {
     "name": "stdout",
     "output_type": "stream",
     "text": [
      " NumPy creating testVectorsNumber = 10000 of testVectorSize = 16\n",
      "using function \n",
      "~~ Alexa_Hamming.hamming_distance_typeList_length16_fast ~~\n",
      "\n",
      "\t newTimedelta_NumPy = 165009 \n"
     ]
    }
   ],
   "source": [
    "time_start = datetime.datetime.now()\n",
    "for i in range(testVectorsNumber):\n",
    "    xV_NumPy = newTestArray_of_random_vectors_NumPy[i]\n",
    "    Alexa_Hamming_with_NumPy.hamming_distance_length16_fast(xVecConst_NumPy, xV_NumPy)\n",
    "time_end = datetime.datetime.now()\n",
    "#\n",
    "newTimedelta_NumPy = (time_end - time_start)\n",
    "print(\"\"\" NumPy creating testVectorsNumber = {0} of testVectorSize = {1}\n",
    "using function \n",
    "~~ Alexa_Hamming.hamming_distance_typeList_length16_fast ~~\n",
    "\\n\\t newTimedelta_NumPy = {2} \"\"\".format(testVectorsNumber, testVectorSize,\\\n",
    "                           newTimedelta_NumPy.microseconds))"
   ]
  },
  {
   "cell_type": "code",
   "execution_count": 38,
   "metadata": {},
   "outputs": [
    {
     "name": "stdout",
     "output_type": "stream",
     "text": [
      "100\n",
      "112\n",
      "64\n",
      "64\n",
      "80\n",
      "112\n"
     ]
    }
   ],
   "source": [
    "xVec_CONST = [-1, -1, -1, -1, -1, -1, -1, -1, -1, -1, -1, -1, -1, -1, -1, -1]\n",
    "print( sys.getsizeof( xVec_CONST ) )\n",
    "print( sys.getsizeof( np.array(xVec_CONST) ) )\n",
    "print( sys.getsizeof( np.array(xVec_CONST, dtype = np.byte) ) )\n",
    "print( sys.getsizeof( np.array(xVec_CONST, dtype = np.int8) ) )\n",
    "print( sys.getsizeof( np.array(xVec_CONST, dtype = np.short)) )\n",
    "print( sys.getsizeof( np.array(xVec_CONST, dtype = np.int)  ) )"
   ]
  },
  {
   "cell_type": "code",
   "execution_count": null,
   "metadata": {},
   "outputs": [],
   "source": []
  }
 ],
 "metadata": {
  "kernelspec": {
   "display_name": "Python 3",
   "language": "python",
   "name": "python3"
  },
  "language_info": {
   "codemirror_mode": {
    "name": "ipython",
    "version": 3
   },
   "file_extension": ".py",
   "mimetype": "text/x-python",
   "name": "python",
   "nbconvert_exporter": "python",
   "pygments_lexer": "ipython3",
   "version": "3.7.3"
  }
 },
 "nbformat": 4,
 "nbformat_minor": 2
}
